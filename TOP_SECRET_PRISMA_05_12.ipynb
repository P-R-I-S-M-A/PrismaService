{
 "cells": [
  {
   "cell_type": "code",
   "execution_count": 179,
   "metadata": {},
   "outputs": [],
   "source": [
    "# Importando bibliotecas\n",
    "import numpy as np\n",
    "import pandas as pd\n",
    "import json"
   ]
  },
  {
   "cell_type": "code",
   "execution_count": 180,
   "metadata": {},
   "outputs": [
    {
     "name": "stdout",
     "output_type": "stream",
     "text": [
      "Usuarios:\n",
      "{'id': '1qwdcTgFeYU5K07GHcpg', 'data': {'disp': 5, 'ct': 13, 'skill': [{'assembly': 7, 'office': 10, 'git': 5, 'ruby': 1, 'linux': 7, 'java': 3, 'php': 1, 'javascript': 10, 'python': 9, 'sql': 9}]}}\n",
      "{'id': '2lS4yddcgot3W6qewrAC', 'data': {'disp': 23, 'ct': 12, 'skill': [{'ruby': 3, 'sql': 3, 'javascript': 2, 'office': 8, 'python': 6, 'java': 1, 'assembly': 6, 'git': 4, 'php': 9, 'linux': 5}]}}\n",
      "{'id': '49wZ4zez5HCP7cgl8ZPs', 'data': {'disp': 0, 'ct': 2, 'skill': [{'java': 6, 'assembly': 10, 'ruby': 3, 'php': 7, 'python': 9, 'office': 3, 'sql': 1, 'git': 3, 'linux': 8, 'javascript': 4}]}}\n",
      "{'id': 'J3xKLphGMBXtlt3zpdoV', 'data': {'disp': 1, 'ct': 10, 'skill': [{'sql': 7, 'ruby': 5, 'assembly': 1, 'php': 5, 'python': 0, 'javascript': 7, 'git': 9, 'linux': 5, 'office': 5, 'java': 4}]}}\n",
      "{'id': 'TaVGW6yBTdvemFDQjgqV', 'data': {'disp': 11, 'ct': 8, 'skill': [{'office': 4, 'python': 8, 'ruby': 9, 'php': 5, 'java': 5, 'sql': 4, 'linux': 6, 'assembly': 10, 'git': 9, 'javascript': 6}]}}\n",
      "{'id': 'YcutVtAiqMt9R6IgGS2M', 'data': {'disp': 19, 'ct': 7, 'skill': [{'python': 6, 'ruby': 5, 'sql': 7, 'office': 7, 'git': 9, 'javascript': 9, 'linux': 1, 'assembly': 8, 'java': 10, 'php': 5}]}}\n",
      "{'id': 'bSA4wzwwENyXiiFWzcQ8', 'data': {'disp': 2, 'ct': 30, 'skill': [{'javascript': 5, 'office': 6, 'java': 3, 'git': 7, 'php': 2, 'python': 5, 'ruby': 2, 'sql': 1, 'assembly': 0, 'linux': 5}]}}\n",
      "{'id': 'X6HHWLeWjcmv4Afu5rP5', 'data': {'disp': 10, 'ct': 0, 'skill': [{'assembly': 2, 'php': 5, 'python': 1, 'java': 5, 'office': 2, 'git': 1, 'linux': 9, 'javascript': 6, 'sql': 2, 'ruby': 6}]}}\n",
      "{'id': 'Ra1oD5GWqv35RCnpV0WK', 'data': {'disp': 30, 'ct': 8, 'skill': [{'ruby': 10, 'java': 7, 'php': 2, 'javascript': 9, 'office': 10, 'sql': 9, 'python': 7, 'git': 10, 'linux': 1, 'assembly': 2}]}}\n",
      "{'id': 'IovKkezSxG92L62oEeoL', 'data': {'disp': 12, 'ct': 2, 'skill': [{'ruby': 3, 'python': 0, 'assembly': 8, 'php': 5, 'linux': 1, 'sql': 8, 'git': 1, 'java': 8, 'javascript': 1, 'office': 7}]}}\n"
     ]
    }
   ],
   "source": [
    "# Abrir o arquivo JSON e carregar os dados\n",
    "with open('teste.json', 'r') as archive_json:\n",
    "    request_body = json.load(archive_json)\n",
    "\n",
    "# Acessar a matriz dentro do arquivo JSON\n",
    "user_data = list(request_body['users'])\n",
    "\n",
    "print(\"Usuarios:\")\n",
    "for linha in user_data:\n",
    "    print(linha)"
   ]
  },
  {
   "cell_type": "code",
   "execution_count": 181,
   "metadata": {},
   "outputs": [
    {
     "name": "stdout",
     "output_type": "stream",
     "text": [
      "[ 0  5 13  1 10  3 10  9  1  7  9  5  7]\n",
      "[ 1 23 12  9  8  1  2  6  3  6  3  4  5]\n",
      "[ 2  0  2  7  3  6  4  9  3 10  1  3  8]\n",
      "[ 3  1 10  5  5  4  7  0  5  1  7  9  5]\n",
      "[ 4 11  8  5  4  5  6  8  9 10  4  9  6]\n",
      "[ 5 19  7  5  7 10  9  6  5  8  7  9  1]\n",
      "[ 6  2 30  2  6  3  5  5  2  0  1  7  5]\n",
      "[ 7 10  0  5  2  5  6  1  6  2  2  1  9]\n",
      "[ 8 30  8  2 10  7  9  7 10  2  9 10  1]\n",
      "[ 9 12  2  5  7  8  1  0  3  8  8  1  1]\n",
      "['1qwdcTgFeYU5K07GHcpg', '2lS4yddcgot3W6qewrAC', '49wZ4zez5HCP7cgl8ZPs', 'J3xKLphGMBXtlt3zpdoV', 'TaVGW6yBTdvemFDQjgqV', 'YcutVtAiqMt9R6IgGS2M', 'bSA4wzwwENyXiiFWzcQ8', 'X6HHWLeWjcmv4Afu5rP5', 'Ra1oD5GWqv35RCnpV0WK', 'IovKkezSxG92L62oEeoL']\n"
     ]
    }
   ],
   "source": [
    "# Inicializar listas para cada coluna da matriz\n",
    "ids = []\n",
    "disp = []\n",
    "ct = []\n",
    "php = []\n",
    "office = []\n",
    "java = []\n",
    "javascript = []\n",
    "python = []\n",
    "ruby = []\n",
    "assembly = []\n",
    "sql = []\n",
    "git = []\n",
    "linux = []\n",
    "\n",
    "# Preencher listas com os dados do JSON\n",
    "for user in user_data:\n",
    "    ids.append((user[\"id\"]))  # Manter a coluna de ids como string\n",
    "    disp.append(int(user[\"data\"][\"disp\"]))\n",
    "    ct.append(int(user[\"data\"][\"ct\"]))\n",
    "    php.append(int(user[\"data\"][\"skill\"][0][\"php\"]))\n",
    "    office.append(int(user[\"data\"][\"skill\"][0][\"office\"]))\n",
    "    java.append(int(user[\"data\"][\"skill\"][0][\"java\"]))\n",
    "    javascript.append(int(user[\"data\"][\"skill\"][0][\"javascript\"]))\n",
    "    python.append(int(user[\"data\"][\"skill\"][0][\"python\"]))\n",
    "    ruby.append(int(user[\"data\"][\"skill\"][0][\"ruby\"]))\n",
    "    assembly.append(int(user[\"data\"][\"skill\"][0][\"assembly\"]))\n",
    "    sql.append(int(user[\"data\"][\"skill\"][0][\"sql\"]))\n",
    "    git.append(int(user[\"data\"][\"skill\"][0][\"git\"]))\n",
    "    linux.append(int(user[\"data\"][\"skill\"][0][\"linux\"]))\n",
    "\n",
    "# Criar a matriz usando NumPy\n",
    "matrix = np.array([range(0, len(ids)), disp, ct, php, office, java, javascript, python, ruby, assembly, sql, git, linux]).T\n",
    "\n",
    "\n",
    "# Exibir a matriz\n",
    "for row in matrix:\n",
    "    print(row)\n",
    "\n",
    "print(ids)"
   ]
  },
  {
   "cell_type": "code",
   "execution_count": 182,
   "metadata": {},
   "outputs": [],
   "source": [
    "# Dicionário mapeando habilidades para índices\n",
    "index = {\n",
    "    'php': 3,\n",
    "    'office': 4,\n",
    "    'java': 5,\n",
    "    'javascript': 6,\n",
    "    'python': 7,\n",
    "    'ruby': 8,\n",
    "    'assembly': 9,\n",
    "    'sql': 10,\n",
    "    'git': 11,\n",
    "    'linux': 12\n",
    "}"
   ]
  },
  {
   "cell_type": "code",
   "execution_count": 183,
   "metadata": {},
   "outputs": [
    {
     "name": "stdout",
     "output_type": "stream",
     "text": [
      "['python', 'php', 'java']\n"
     ]
    }
   ],
   "source": [
    "# Acessar as habilidades requeridas dentro do arquivo JSON\n",
    "task_json = list(request_body['tarefas'])\n",
    "print(task_json)"
   ]
  },
  {
   "cell_type": "code",
   "execution_count": 184,
   "metadata": {},
   "outputs": [
    {
     "name": "stdout",
     "output_type": "stream",
     "text": [
      "[7, 3, 5]\n"
     ]
    }
   ],
   "source": [
    "# Resgatar os índices correspondentes às habilidades requeridas\n",
    "skills_index = [index[skill] for skill in task_json]\n",
    "print(skills_index)"
   ]
  },
  {
   "cell_type": "code",
   "execution_count": 185,
   "metadata": {},
   "outputs": [
    {
     "name": "stdout",
     "output_type": "stream",
     "text": [
      "Habilidades requeridas:\n",
      "[[ 0  5 13  9  1  3]\n",
      " [ 1 23 12  6  9  1]\n",
      " [ 2  0  2  9  7  6]\n",
      " [ 3  1 10  0  5  4]\n",
      " [ 4 11  8  8  5  5]\n",
      " [ 5 19  7  6  5 10]\n",
      " [ 6  2 30  5  2  3]\n",
      " [ 7 10  0  1  5  5]\n",
      " [ 8 30  8  7  2  7]\n",
      " [ 9 12  2  0  5  8]]\n"
     ]
    }
   ],
   "source": [
    "# Nova matriz apenas com as habilidades requeridas\n",
    "users_skills = matrix[:, skills_index]\n",
    "\n",
    "# Adicionar as três primeiras colunas de volta à nova matriz\n",
    "users_skills = np.concatenate((matrix[:, :3], users_skills), axis=1)\n",
    "\n",
    "print(\"Habilidades requeridas:\")\n",
    "print(users_skills)"
   ]
  },
  {
   "cell_type": "code",
   "execution_count": 186,
   "metadata": {},
   "outputs": [
    {
     "name": "stdout",
     "output_type": "stream",
     "text": [
      "Algumas linhas removidas:\n",
      "[[ 0  5 13  9  1  3]\n",
      " [ 1 23 12  6  9  1]\n",
      " [ 2  0  2  9  7  6]\n",
      " [ 4 11  8  8  5  5]\n",
      " [ 5 19  7  6  5 10]\n",
      " [ 6  2 30  5  2  3]\n",
      " [ 7 10  0  1  5  5]\n",
      " [ 8 30  8  7  2  7]]\n",
      "Quant. de usuários remanescentes: 8\n"
     ]
    }
   ],
   "source": [
    "# Contar quantas linhas têm pelo menos um valor 0 (com exceção três primeiras, que representam o index, a disp e a carga de trabalho)\n",
    "lines_with_zeros = np.sum(np.any(users_skills[:, 3:] == 0, axis=1))\n",
    "\n",
    "# Verificar se a quantidade de linhas com zero é igual ou muito próxima ao total de linhas\n",
    "limite_proximidade = 0.2  # 20% de tolerância para proximidade\n",
    "if lines_with_zeros == 0:\n",
    "    verif_dom = users_skills.shape[0]\n",
    "    print(\"Não foram removidas linhas - Nenhuma linha contém 0\")\n",
    "    print(users_skills)\n",
    "else:\n",
    "    if lines_with_zeros < len(users_skills) * (1 - limite_proximidade):\n",
    "        # Remover as linhas com pelo menos um valor 0\n",
    "        users_skills = users_skills[~np.any(users_skills[:, 3:] == 0, axis=1)]\n",
    "        verif_dom = users_skills.shape[0]\n",
    "        print(\"Algumas linhas removidas:\")\n",
    "        print(users_skills)\n",
    "    else:\n",
    "        verif_dom = users_skills.shape[0]\n",
    "        print(\"Não foram removidas linhas - A quantidade de linhas com 0 é próxima a quantidade de usuários.\")\n",
    "        print(users_skills)\n",
    "\n",
    "print(\"Quant. de usuários remanescentes:\", verif_dom)"
   ]
  },
  {
   "cell_type": "code",
   "execution_count": 187,
   "metadata": {},
   "outputs": [
    {
     "name": "stdout",
     "output_type": "stream",
     "text": [
      "[[11.44552314]\n",
      " [ 9.89949494]\n",
      " [ 5.09901951]\n",
      " [ 7.34846923]\n",
      " [ 6.40312424]\n",
      " [11.74734012]\n",
      " [11.44552314]\n",
      " [ 9.05538514]]\n"
     ]
    }
   ],
   "source": [
    "# Criando matriz vazia para salvar resultados\n",
    "distances_results = np.zeros((verif_dom, 1))\n",
    "\n",
    "#Criar vetor com a quantidade de posições igual a quantidades de habilidades requeridas\n",
    "skills_quant = len(skills_index)\n",
    "skills_max = np.full(skills_quant, 10)\n",
    "\n",
    "# Nova matriz apenas com as habilidades requeridas\n",
    "skills_dist = users_skills[:, 3:]\n",
    "\n",
    "for i in range(verif_dom):\n",
    "  user_current = skills_dist[i, :]\n",
    "  user_current_reshaped = user_current.reshape(1, -1)\n",
    "  skills_max_reshaped = skills_max.reshape(1, -1)\n",
    "  variation = user_current_reshaped - skills_max_reshaped\n",
    "  distance = np.linalg.norm(variation)\n",
    "  distances_results[i, 0] = distance\n",
    "\n",
    "print(distances_results)"
   ]
  },
  {
   "cell_type": "code",
   "execution_count": 188,
   "metadata": {},
   "outputs": [
    {
     "name": "stdout",
     "output_type": "stream",
     "text": [
      "[[ 0.          5.         13.         11.44552314]\n",
      " [ 1.         23.         12.          9.89949494]\n",
      " [ 2.          0.          2.          5.09901951]\n",
      " [ 4.         11.          8.          7.34846923]\n",
      " [ 5.         19.          7.          6.40312424]\n",
      " [ 6.          2.         30.         11.74734012]\n",
      " [ 7.         10.          0.         11.44552314]\n",
      " [ 8.         30.          8.          9.05538514]]\n"
     ]
    }
   ],
   "source": [
    "# Juntando os resultados de similaridade com a disponibilidade e a carga de trabalho\n",
    "disp_cargat = users_skills[:, :3]\n",
    "verif_dom = np.hstack((disp_cargat, distances_results))\n",
    "print(verif_dom)"
   ]
  },
  {
   "cell_type": "code",
   "execution_count": 189,
   "metadata": {},
   "outputs": [
    {
     "name": "stdout",
     "output_type": "stream",
     "text": [
      "Ranking dos usuários (IDs ordenados): [2, 5, 7, 8, 1, 4, 0, 6]\n"
     ]
    }
   ],
   "source": [
    "# Função para encontrar os usuários não dominados e atualizar a matriz\n",
    "def find_and_update_non_dominated(df):\n",
    "    non_dominated_users = []\n",
    "    \n",
    "    for idx, row in df.iterrows():\n",
    "        filtered = df[(df['Disponibilidade'] >= row['Disponibilidade']) &\n",
    "                      (df['Carga_de_Trabalho'] <= row['Carga_de_Trabalho']) &\n",
    "                      (df['Habilidade'] <= row['Habilidade'])]\n",
    "\n",
    "        if len(filtered) == 1:\n",
    "            non_dominated_users.append(int(row['ID']))\n",
    "\n",
    "    # Atualizar o ranking com os IDs dos usuários não dominados\n",
    "    ranking.extend(non_dominated_users)\n",
    "    \n",
    "    # Remover usuários não dominados do DataFrame\n",
    "    df_filtered = df[~df['ID'].isin(non_dominated_users)]\n",
    "    \n",
    "    return df_filtered\n",
    "\n",
    "# Criando um DataFrame com os dados\n",
    "columns = ['ID', 'Disponibilidade', 'Carga_de_Trabalho', 'Habilidade']\n",
    "df = pd.DataFrame(verif_dom, columns=columns)\n",
    "\n",
    "# Lista para armazenar o ranking\n",
    "ranking = []\n",
    "\n",
    "# Repetir até que a matriz esteja vazia\n",
    "while not df.empty:\n",
    "    df = find_and_update_non_dominated(df)\n",
    "\n",
    "# Resultado final\n",
    "print(\"Ranking dos usuários (IDs ordenados):\", ranking)"
   ]
  },
  {
   "cell_type": "code",
   "execution_count": 190,
   "metadata": {},
   "outputs": [
    {
     "name": "stdout",
     "output_type": "stream",
     "text": [
      "['49wZ4zez5HCP7cgl8ZPs' 'YcutVtAiqMt9R6IgGS2M' 'X6HHWLeWjcmv4Afu5rP5'\n",
      " 'Ra1oD5GWqv35RCnpV0WK' '2lS4yddcgot3W6qewrAC' 'TaVGW6yBTdvemFDQjgqV'\n",
      " '1qwdcTgFeYU5K07GHcpg' 'bSA4wzwwENyXiiFWzcQ8']\n"
     ]
    }
   ],
   "source": [
    "# Seus arrays\n",
    "ranking = np.array(ranking)\n",
    "ids = np.array(ids)\n",
    "\n",
    "# Criar o array reorganizado\n",
    "lst_ranking = ids[ranking]\n",
    "\n",
    "# Exibir o array reorganizado\n",
    "print(lst_ranking)"
   ]
  }
 ],
 "metadata": {
  "kernelspec": {
   "display_name": "Python 3",
   "language": "python",
   "name": "python3"
  },
  "language_info": {
   "codemirror_mode": {
    "name": "ipython",
    "version": 3
   },
   "file_extension": ".py",
   "mimetype": "text/x-python",
   "name": "python",
   "nbconvert_exporter": "python",
   "pygments_lexer": "ipython3",
   "version": "3.12.1"
  }
 },
 "nbformat": 4,
 "nbformat_minor": 2
}
