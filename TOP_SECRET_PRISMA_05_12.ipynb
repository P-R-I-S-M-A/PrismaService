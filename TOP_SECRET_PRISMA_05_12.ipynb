{
 "cells": [
  {
   "cell_type": "code",
   "execution_count": 4,
   "metadata": {},
   "outputs": [],
   "source": [
    "# Importando bibliotecas\n",
    "import numpy as np\n",
    "import json"
   ]
  },
  {
   "cell_type": "code",
   "execution_count": 5,
   "metadata": {},
   "outputs": [
    {
     "name": "stdout",
     "output_type": "stream",
     "text": [
      "Usuarios:\n",
      "{'id': '01', 'disp': 1, 'ct': 10, 'skill': [{'php': 5, 'office': 5, 'java': 4, 'javascript': 7, 'python': 0, 'ruby': 5, 'assembly': 1, 'sql': 7, 'git': 9, 'linux': 5}]}\n",
      "{'id': '02', 'disp': 11, 'ct': 8, 'skill': [{'php': 5, 'office': 4, 'java': 5, 'javascript': 6, 'python': 8, 'ruby': 9, 'assembly': 10, 'sql': 4, 'git': 9, 'linux': 6}]}\n",
      "{'id': '03', 'disp': 5, 'ct': 13, 'skill': [{'php': 1, 'office': 10, 'java': 3, 'javascript': 10, 'python': 9, 'ruby': 1, 'assembly': 7, 'sql': 9, 'git': 5, 'linux': 7}]}\n",
      "{'id': '04', 'disp': 19, 'ct': 7, 'skill': [{'php': 5, 'office': 7, 'java': 10, 'javascript': 9, 'python': 6, 'ruby': 5, 'assembly': 8, 'sql': 7, 'git': 9, 'linux': 1}]}\n",
      "{'id': '05', 'disp': 2, 'ct': 30, 'skill': [{'php': 2, 'office': 6, 'java': 3, 'javascript': 5, 'python': 5, 'ruby': 2, 'assembly': 0, 'sql': 1, 'git': 7, 'linux': 5}]}\n",
      "{'id': '06', 'disp': 10, 'ct': 0, 'skill': [{'php': 5, 'office': 2, 'java': 5, 'javascript': 6, 'python': 1, 'ruby': 6, 'assembly': 2, 'sql': 2, 'git': 1, 'linux': 9}]}\n",
      "{'id': '07', 'disp': 30, 'ct': 8, 'skill': [{'php': 2, 'office': 10, 'java': 7, 'javascript': 9, 'python': 7, 'ruby': 10, 'assembly': 2, 'sql': 9, 'git': 10, 'linux': 1}]}\n",
      "{'id': '08', 'disp': 12, 'ct': 2, 'skill': [{'php': 5, 'office': 7, 'java': 8, 'javascript': 1, 'python': 0, 'ruby': 3, 'assembly': 8, 'sql': 8, 'git': 1, 'linux': 1}]}\n",
      "{'id': '09', 'disp': 8, 'ct': 9, 'skill': [{'php': 10, 'office': 3, 'java': 0, 'javascript': 9, 'python': 4, 'ruby': 6, 'assembly': 9, 'sql': 3, 'git': 2, 'linux': 1}]}\n",
      "{'id': '10', 'disp': 16, 'ct': 7, 'skill': [{'php': 0, 'office': 7, 'java': 6, 'javascript': 0, 'python': 4, 'ruby': 8, 'assembly': 10, 'sql': 1, 'git': 8, 'linux': 1}]}\n",
      "{'id': '11', 'disp': 23, 'ct': 15, 'skill': [{'php': 1, 'office': 0, 'java': 1, 'javascript': 2, 'python': 10, 'ruby': 8, 'assembly': 8, 'sql': 4, 'git': 5, 'linux': 5}]}\n",
      "{'id': '12', 'disp': 0, 'ct': 2, 'skill': [{'php': 7, 'office': 3, 'java': 6, 'javascript': 4, 'python': 9, 'ruby': 3, 'assembly': 10, 'sql': 1, 'git': 3, 'linux': 8}]}\n",
      "{'id': '13', 'disp': 1, 'ct': 17, 'skill': [{'php': 3, 'office': 4, 'java': 1, 'javascript': 1, 'python': 9, 'ruby': 9, 'assembly': 1, 'sql': 7, 'git': 3, 'linux': 10}]}\n",
      "{'id': '14', 'disp': 12, 'ct': 22, 'skill': [{'php': 0, 'office': 5, 'java': 3, 'javascript': 6, 'python': 8, 'ruby': 10, 'assembly': 8, 'sql': 4, 'git': 6, 'linux': 9}]}\n",
      "{'id': '15', 'disp': 16, 'ct': 18, 'skill': [{'php': 1, 'office': 4, 'java': 5, 'javascript': 3, 'python': 10, 'ruby': 1, 'assembly': 2, 'sql': 9, 'git': 2, 'linux': 8}]}\n",
      "{'id': '16', 'disp': 11, 'ct': 1, 'skill': [{'php': 4, 'office': 9, 'java': 3, 'javascript': 6, 'python': 10, 'ruby': 7, 'assembly': 9, 'sql': 3, 'git': 9, 'linux': 10}]}\n",
      "{'id': '17', 'disp': 23, 'ct': 12, 'skill': [{'php': 9, 'office': 8, 'java': 1, 'javascript': 2, 'python': 6, 'ruby': 3, 'assembly': 6, 'sql': 3, 'git': 4, 'linux': 5}]}\n",
      "{'id': '18', 'disp': 11, 'ct': 21, 'skill': [{'php': 4, 'office': 6, 'java': 1, 'javascript': 1, 'python': 9, 'ruby': 4, 'assembly': 2, 'sql': 7, 'git': 0, 'linux': 5}]}\n",
      "{'id': '19', 'disp': 27, 'ct': 20, 'skill': [{'php': 4, 'office': 2, 'java': 6, 'javascript': 0, 'python': 4, 'ruby': 8, 'assembly': 9, 'sql': 0, 'git': 8, 'linux': 5}]}\n",
      "{'id': '20', 'disp': 16, 'ct': 10, 'skill': [{'php': 9, 'office': 8, 'java': 10, 'javascript': 10, 'python': 6, 'ruby': 8, 'assembly': 7, 'sql': 5, 'git': 7, 'linux': 2}]}\n"
     ]
    }
   ],
   "source": [
    "# Abrir o arquivo JSON e carregar os dados\n",
    "with open('db.json', 'r') as archive_json:\n",
    "    request_body = json.load(archive_json)\n",
    "\n",
    "# Acessar a matriz dentro do arquivo JSON\n",
    "data_json = request_body['users']\n",
    "\n",
    "print(\"Usuarios:\")\n",
    "for linha in data_json:\n",
    "    print(linha)"
   ]
  },
  {
   "cell_type": "code",
   "execution_count": 6,
   "metadata": {},
   "outputs": [
    {
     "name": "stdout",
     "output_type": "stream",
     "text": [
      "[[ 1  1 10  5  5  4  7  0  5  1  7  9  5]\n",
      " [ 2 11  8  5  4  5  6  8  9 10  4  9  6]\n",
      " [ 3  5 13  1 10  3 10  9  1  7  9  5  7]\n",
      " [ 4 19  7  5  7 10  9  6  5  8  7  9  1]\n",
      " [ 5  2 30  2  6  3  5  5  2  0  1  7  5]\n",
      " [ 6 10  0  5  2  5  6  1  6  2  2  1  9]\n",
      " [ 7 30  8  2 10  7  9  7 10  2  9 10  1]\n",
      " [ 8 12  2  5  7  8  1  0  3  8  8  1  1]\n",
      " [ 9  8  9 10  3  0  9  4  6  9  3  2  1]\n",
      " [10 16  7  0  7  6  0  4  8 10  1  8  1]\n",
      " [11 23 15  1  0  1  2 10  8  8  4  5  5]\n",
      " [12  0  2  7  3  6  4  9  3 10  1  3  8]\n",
      " [13  1 17  3  4  1  1  9  9  1  7  3 10]\n",
      " [14 12 22  0  5  3  6  8 10  8  4  6  9]\n",
      " [15 16 18  1  4  5  3 10  1  2  9  2  8]\n",
      " [16 11  1  4  9  3  6 10  7  9  3  9 10]\n",
      " [17 23 12  9  8  1  2  6  3  6  3  4  5]\n",
      " [18 11 21  4  6  1  1  9  4  2  7  0  5]\n",
      " [19 27 20  4  2  6  0  4  8  9  0  8  5]\n",
      " [20 16 10  9  8 10 10  6  8  7  5  7  2]]\n"
     ]
    }
   ],
   "source": [
    "# Extrair valores de 'disp', 'ct' e 'skill' e criar a matriz\n",
    "matrix = []\n",
    "for idx, user in enumerate(data_json, start=1):\n",
    "    disp_ct_values = [user['disp'], user['ct']]\n",
    "    skill_values = user['skill'][0]\n",
    "    values = [idx] + disp_ct_values + [skill_values[key] for key in skill_values]\n",
    "    matrix.append(values)\n",
    "\n",
    "# Converter a matriz para um array NumPy\n",
    "users_data = np.array(matrix)\n",
    "\n",
    "# Imprimir a matriz resultante\n",
    "print(users_data)"
   ]
  },
  {
   "cell_type": "code",
   "execution_count": 7,
   "metadata": {},
   "outputs": [],
   "source": [
    "# Dicionário mapeando habilidades para índices\n",
    "index = {\n",
    "    'php': 3,\n",
    "    'office': 4,\n",
    "    'java': 5,\n",
    "    'javascript': 6,\n",
    "    'python': 7,\n",
    "    'ruby': 8,\n",
    "    'assembly': 9,\n",
    "    'sql': 10,\n",
    "    'git': 11,\n",
    "    'linux': 12\n",
    "}"
   ]
  },
  {
   "cell_type": "code",
   "execution_count": 8,
   "metadata": {},
   "outputs": [
    {
     "name": "stdout",
     "output_type": "stream",
     "text": [
      "['python', 'php', 'ruby']\n"
     ]
    }
   ],
   "source": [
    "# Acessar as habilidades requeridas dentro do arquivo JSON\n",
    "task_json = request_body['tarefa']\n",
    "print(task_json)"
   ]
  },
  {
   "cell_type": "code",
   "execution_count": 9,
   "metadata": {},
   "outputs": [
    {
     "name": "stdout",
     "output_type": "stream",
     "text": [
      "[7, 3, 8]\n"
     ]
    }
   ],
   "source": [
    "# Resgatar os índices correspondentes às habilidades requeridas\n",
    "skills_index = [index[skill] for skill in task_json]\n",
    "print(skills_index)"
   ]
  },
  {
   "cell_type": "code",
   "execution_count": 10,
   "metadata": {},
   "outputs": [
    {
     "name": "stdout",
     "output_type": "stream",
     "text": [
      "Habilidades requeridas:\n",
      "[[ 1  1 10  0  5  5]\n",
      " [ 2 11  8  8  5  9]\n",
      " [ 3  5 13  9  1  1]\n",
      " [ 4 19  7  6  5  5]\n",
      " [ 5  2 30  5  2  2]\n",
      " [ 6 10  0  1  5  6]\n",
      " [ 7 30  8  7  2 10]\n",
      " [ 8 12  2  0  5  3]\n",
      " [ 9  8  9  4 10  6]\n",
      " [10 16  7  4  0  8]\n",
      " [11 23 15 10  1  8]\n",
      " [12  0  2  9  7  3]\n",
      " [13  1 17  9  3  9]\n",
      " [14 12 22  8  0 10]\n",
      " [15 16 18 10  1  1]\n",
      " [16 11  1 10  4  7]\n",
      " [17 23 12  6  9  3]\n",
      " [18 11 21  9  4  4]\n",
      " [19 27 20  4  4  8]\n",
      " [20 16 10  6  9  8]]\n"
     ]
    }
   ],
   "source": [
    "# Nova matriz apenas com as habilidades requeridas\n",
    "users_skills = users_data[:, skills_index]\n",
    "\n",
    "# Adicionar as três primeiras colunas de volta à nova matriz\n",
    "users_skills = np.concatenate((users_data[:, :3], users_skills), axis=1)\n",
    "\n",
    "print(\"Habilidades requeridas:\")\n",
    "print(users_skills)"
   ]
  },
  {
   "cell_type": "code",
   "execution_count": 11,
   "metadata": {},
   "outputs": [
    {
     "name": "stdout",
     "output_type": "stream",
     "text": [
      "Algumas linhas removidas:\n",
      "[[ 2 11  8  8  5  9]\n",
      " [ 3  5 13  9  1  1]\n",
      " [ 4 19  7  6  5  5]\n",
      " [ 5  2 30  5  2  2]\n",
      " [ 6 10  0  1  5  6]\n",
      " [ 7 30  8  7  2 10]\n",
      " [ 9  8  9  4 10  6]\n",
      " [11 23 15 10  1  8]\n",
      " [12  0  2  9  7  3]\n",
      " [13  1 17  9  3  9]\n",
      " [15 16 18 10  1  1]\n",
      " [16 11  1 10  4  7]\n",
      " [17 23 12  6  9  3]\n",
      " [18 11 21  9  4  4]\n",
      " [19 27 20  4  4  8]\n",
      " [20 16 10  6  9  8]]\n",
      "Quant. de usuários remanescentes: 16\n"
     ]
    }
   ],
   "source": [
    "# Contar quantas linhas têm pelo menos um valor 0 (com exceção três primeiras, que representam o index, a disp e a carga de trabalho)\n",
    "lines_with_zeros = np.sum(np.any(users_skills[:, 3:] == 0, axis=1))\n",
    "\n",
    "# Verificar se a quantidade de linhas com zero é igual ou muito próxima ao total de linhas\n",
    "limite_proximidade = 0.2  # 20% de tolerância para proximidade\n",
    "if lines_with_zeros == 0:\n",
    "    users = users_skills.shape[0]\n",
    "    print(\"Não foram removidas linhas - Nenhuma linha contém 0\")\n",
    "    print(users_skills)\n",
    "else:\n",
    "    if lines_with_zeros < len(users_skills) * (1 - limite_proximidade):\n",
    "        # Remover as linhas com pelo menos um valor 0\n",
    "        users_skills = users_skills[~np.any(users_skills[:, 3:] == 0, axis=1)]\n",
    "        users = users_skills.shape[0]\n",
    "        print(\"Algumas linhas removidas:\")\n",
    "        print(users_skills)\n",
    "    else:\n",
    "        users = users_skills.shape[0]\n",
    "        print(\"Não foram removidas linhas - A quantidade de linhas com 0 é próxima a quantidade de usuários.\")\n",
    "        print(users_skills)\n",
    "\n",
    "print(\"Quant. de usuários remanescentes:\", users)"
   ]
  },
  {
   "cell_type": "code",
   "execution_count": 12,
   "metadata": {},
   "outputs": [
    {
     "name": "stdout",
     "output_type": "stream",
     "text": [
      "[[ 5.47722558]\n",
      " [12.76714533]\n",
      " [ 8.1240384 ]\n",
      " [12.36931688]\n",
      " [11.04536102]\n",
      " [ 8.54400375]\n",
      " [ 7.21110255]\n",
      " [ 9.21954446]\n",
      " [ 7.68114575]\n",
      " [ 7.14142843]\n",
      " [12.72792206]\n",
      " [ 6.70820393]\n",
      " [ 8.1240384 ]\n",
      " [ 8.54400375]\n",
      " [ 8.71779789]\n",
      " [ 4.58257569]]\n"
     ]
    }
   ],
   "source": [
    "# Criando matriz vazia para salvar resultados\n",
    "distances_results = np.zeros((users, 1))\n",
    "\n",
    "#Criar vetor com a quantidade de posições igual a quantidades de habilidades requeridas\n",
    "skills_quant = len(skills_index)\n",
    "skills_max = np.full(skills_quant, 10)\n",
    "\n",
    "# Nova matriz apenas com as habilidades requeridas\n",
    "skills_dist = users_skills[:, 3:]\n",
    "\n",
    "for i in range(users):\n",
    "  user_current = skills_dist[i, :]\n",
    "  user_current_reshaped = user_current.reshape(1, -1)\n",
    "  skills_max_reshaped = skills_max.reshape(1, -1)\n",
    "  variation = user_current_reshaped - skills_max_reshaped\n",
    "  dintance = np.linalg.norm(variation)\n",
    "  distances_results[i, 0] = dintance\n",
    "\n",
    "print(distances_results)"
   ]
  },
  {
   "cell_type": "code",
   "execution_count": 13,
   "metadata": {},
   "outputs": [
    {
     "name": "stdout",
     "output_type": "stream",
     "text": [
      "[[ 2.         11.          8.          5.47722558]\n",
      " [ 3.          5.         13.         12.76714533]\n",
      " [ 4.         19.          7.          8.1240384 ]\n",
      " [ 5.          2.         30.         12.36931688]\n",
      " [ 6.         10.          0.         11.04536102]\n",
      " [ 7.         30.          8.          8.54400375]\n",
      " [ 9.          8.          9.          7.21110255]\n",
      " [11.         23.         15.          9.21954446]\n",
      " [12.          0.          2.          7.68114575]\n",
      " [13.          1.         17.          7.14142843]\n",
      " [15.         16.         18.         12.72792206]\n",
      " [16.         11.          1.          6.70820393]\n",
      " [17.         23.         12.          8.1240384 ]\n",
      " [18.         11.         21.          8.54400375]\n",
      " [19.         27.         20.          8.71779789]\n",
      " [20.         16.         10.          4.58257569]]\n"
     ]
    }
   ],
   "source": [
    "# Juntando os resultados de similaridade com a disponibilidade e a carga de trabalho\n",
    "disp_cargat = users_skills[:, :3]\n",
    "verif_dom = np.hstack((disp_cargat, distances_results))\n",
    "print(verif_dom)"
   ]
  },
  {
   "cell_type": "code",
   "execution_count": 14,
   "metadata": {},
   "outputs": [],
   "source": [
    "#lst_ranking = lista com usuários rankeados"
   ]
  }
 ],
 "metadata": {
  "kernelspec": {
   "display_name": "Python 3",
   "language": "python",
   "name": "python3"
  },
  "language_info": {
   "codemirror_mode": {
    "name": "ipython",
    "version": 3
   },
   "file_extension": ".py",
   "mimetype": "text/x-python",
   "name": "python",
   "nbconvert_exporter": "python",
   "pygments_lexer": "ipython3",
   "version": "3.11.5"
  }
 },
 "nbformat": 4,
 "nbformat_minor": 2
}
